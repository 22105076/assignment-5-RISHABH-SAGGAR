{
 "cells": [
  {
   "cell_type": "code",
   "execution_count": null,
   "metadata": {},
   "outputs": [],
   "source": [
    "#QUESTION-1\n",
    "\n",
    "string=input(\"enter the string=\")\n",
    "\n",
    "rev=\"\".join(reversed(string)) #m1\n",
    "\n",
    "print(rev)\n",
    "\n",
    "rev2=string[::-1]  #m2\n",
    "\n",
    "print(rev2)\n",
    "\n",
    "strlen=len(string)  #m3\n",
    "\n",
    "i=strlen-1\n",
    "\n",
    "while(i>=0):\n",
    "    print(string[i], end=\"\")\n",
    "\n",
    "    i-=1\n",
    "\n"
   ]
  },
  {
   "cell_type": "code",
   "execution_count": null,
   "metadata": {},
   "outputs": [],
   "source": [
    "#QUESTION-2\n",
    "\n",
    "start_range=int(input(\"enter the starting point of the range=\"))\n",
    "\n",
    "end_range=int(input(\"enter the ending point of the range=\"))\n",
    "\n",
    "given_number=int(input(\"enter the number=\"))\n",
    "\n",
    "for i in range(start_range,end_range+1):\n",
    "    if(i%given_number==0):\n",
    "        print(i,\" \", end=\"\")\n",
    "\n",
    "    \n",
    "\n"
   ]
  },
  {
   "cell_type": "code",
   "execution_count": null,
   "metadata": {},
   "outputs": [],
   "source": [
    "#QUESTION-3\n",
    "\n",
    "x=int(input(\"enter the length of first side=\"))\n",
    "y=int(input(\"enter the length of second side=\"))\n",
    "z=int(input(\"enter the length of third side=\"))\n",
    "     \n",
    "\n",
    "if( x>(y+z) or y>(x+z) or z>(x+y) ): \n",
    "         flag=0\n",
    "         \n",
    "else:\n",
    "         flag=1\n",
    "\n",
    "\n",
    "if(flag==1):\n",
    "    s=(x+y+z)/2\n",
    "    import math\n",
    "\n",
    "    area=math.sqrt(s*(s-x)*(s-y)*(s-z))\n",
    "\n",
    "    print(f\"area of triangle={area}\")\n",
    "else:\n",
    "    print(\"invalid triangle inputs\")\n",
    "\n",
    "    \n",
    "\n",
    "\n",
    "\n",
    "\n"
   ]
  },
  {
   "cell_type": "code",
   "execution_count": null,
   "metadata": {},
   "outputs": [],
   "source": [
    "#QUESTION-4\n",
    "\n",
    "for i in range(0,5):\n",
    "    for m in range(0,i):\n",
    "        print(\"*\",end=\"\")\n",
    "    print(\"\\n\")\n",
    "for i in range(0,5):\n",
    "    for n in range(0,5-i):\n",
    "        print(\"*\",end=\"\")\n",
    "    print(\"\\n\")"
   ]
  },
  {
   "cell_type": "code",
   "execution_count": null,
   "metadata": {
    "tags": []
   },
   "outputs": [],
   "source": [
    "#QUESTION-5\n",
    "\n",
    "n=int(input(\"input the number of rowws you want to print=\"))\n",
    "\n",
    "j=0\n",
    "\n",
    "for i in range(0,n+1):\n",
    "\n",
    "     for k in range(0,i):\n",
    "            j+=1\n",
    "            print(chr(64+j),end=\"\")\n",
    "\n",
    "     print(\"\\n\")"
   ]
  },
  {
   "cell_type": "code",
   "execution_count": null,
   "metadata": {},
   "outputs": [],
   "source": [
    "#QUESTION-6\n",
    "\n",
    "lower_range = int(input(\"Enter the lower range here - \"))\n",
    "upper_range = int(input(\"Enter the upper range here - \"))\n",
    "for number in range(lower_range , upper_range):\n",
    "    if number > 1:\n",
    "        for i in range(2 , upper_range):\n",
    "            if number % i == 0:\n",
    "                break\n",
    "        if number == i:\n",
    "            print(number , end=\" \")\n",
    "\n"
   ]
  },
  {
   "cell_type": "code",
   "execution_count": null,
   "metadata": {},
   "outputs": [],
   "source": [
    "#QUESTION-7\n",
    "\n",
    "for i in range(1,500):\n",
    "    if(i%77==0):\n",
    "        print(i)"
   ]
  },
  {
   "cell_type": "code",
   "execution_count": null,
   "metadata": {},
   "outputs": [],
   "source": [
    "#QUESTION-8\n",
    "\n",
    "from time import sleep\n",
    "def main():\n",
    "    input_list = []\n",
    "    for i in range(1 , 11 ):\n",
    "        user_input = int(input(f\"Enter the {i} input - \"))\n",
    "        input_list.append(user_input)\n",
    "    sleep(2)\n",
    "    # positive numbers \n",
    "    print(\"a) The positive numbers in the list are - \")\n",
    "    for i in range(0, len(input_list)):\n",
    "        if input_list[i] > 0:\n",
    "            print(f\"{input_list[i]}\")\n",
    "        else:\n",
    "            print(\"none\")\n",
    "            break\n",
    "    sleep(2)\n",
    "\n",
    "    # negative numbers\n",
    "    print(\"b) The negative numbers in the list are - \")\n",
    "    for i in range(0, len(input_list)):\n",
    "        if input_list[i] < 0:\n",
    "            print(f\"{input_list[i]}\")\n",
    "        else:\n",
    "            print(\"none\")\n",
    "            break\n",
    "    sleep(2)\n",
    "\n",
    "    # odd numbers\n",
    "    print(\"c) The odd numbers in the list are - \")\n",
    "    for i in range(0, len(input_list)):\n",
    "        if input_list[i] % 2 != 0:\n",
    "            print(f\"{input_list[i]}\")\n",
    "        \n",
    "    \n",
    "    # even numbers\n",
    "    print(\"d) The even numbers in the list are - \")\n",
    "    for i in range(0, len(input_list)):\n",
    "        if input_list[i] % 2 == 0:\n",
    "            print(f\"{input_list[i]}\")\n",
    "\n",
    "    # number of times each numbers occurs in the list \n",
    "    count = dict()\n",
    "    for word in input_list:\n",
    "        if word in count:\n",
    "            count[word] += 1\n",
    "        else:\n",
    "            count[word] = 1\n",
    "    print(count)\n",
    "main()\n"
   ]
  },
  {
   "cell_type": "code",
   "execution_count": null,
   "metadata": {},
   "outputs": [],
   "source": [
    "#QUESTION-9\n",
    "\n",
    "string=input(\"enter the string=\")\n",
    "\n",
    "print(string)\n",
    "\n",
    "count=dict()    #creation of dict for counting of words\n",
    "\n",
    "\n",
    "words=string.split(\" \")   #splitting string for counting of words\n",
    "\n",
    "for word in words:           \n",
    "   if word in count:                 # if ka mtlb hai agr iss main voh word dubara aa rha hai toh fir uske assigned value ko ek plus krdo\n",
    "      count[word]= count[word]+1    \n",
    "   else:\n",
    "      count[word]=1\n",
    "      \n",
    "print(count)\n"
   ]
  }
 ],
 "metadata": {
  "kernelspec": {
   "display_name": ".venv",
   "language": "python",
   "name": "python3"
  },
  "language_info": {
   "codemirror_mode": {
    "name": "ipython",
    "version": 3
   },
   "file_extension": ".py",
   "mimetype": "text/x-python",
   "name": "python",
   "nbconvert_exporter": "python",
   "pygments_lexer": "ipython3",
   "version": "3.9.6 (default, Oct 18 2022, 12:41:40) \n[Clang 14.0.0 (clang-1400.0.29.202)]"
  },
  "orig_nbformat": 4,
  "vscode": {
   "interpreter": {
    "hash": "8a5edab282632443219e051e4ade2d1d5bbc671c781051bf1437897cbdfea0f1"
   }
  }
 },
 "nbformat": 4,
 "nbformat_minor": 2
}
